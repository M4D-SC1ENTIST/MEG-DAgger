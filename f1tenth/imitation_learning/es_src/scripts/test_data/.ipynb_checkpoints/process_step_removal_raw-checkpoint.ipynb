{
 "cells": [
  {
   "cell_type": "code",
   "execution_count": 21,
   "id": "8b9e8c17",
   "metadata": {},
   "outputs": [],
   "source": [
    "import numpy as np\n",
    "import pandas as pd\n",
    "import seaborn as sns\n",
    "\n",
    "import matplotlib\n",
    "import matplotlib.pyplot as plt"
   ]
  },
  {
   "cell_type": "code",
   "execution_count": 22,
   "id": "49e03924",
   "metadata": {},
   "outputs": [],
   "source": [
    "no_cbf = pd.read_excel('step_removal_raw/no_cbf.xlsx')\n",
    "cbf_10_steps = pd.read_excel('step_removal_raw/cbf_10_steps.xlsx')\n",
    "cbf_20_steps = pd.read_excel('step_removal_raw/cbf_20_steps.xlsx')\n",
    "cbf_30_steps = pd.read_excel('step_removal_raw/cbf_30_steps.xlsx')\n",
    "cbf_40_steps = pd.read_excel('step_removal_raw/cbf_40_steps.xlsx')\n",
    "cbf_50_steps = pd.read_excel('step_removal_raw/cbf_50_steps.xlsx')\n",
    "cbf_60_steps = pd.read_excel('step_removal_raw/cbf_60_steps.xlsx')\n",
    "cbf_70_steps = pd.read_excel('step_removal_raw/cbf_70_steps.xlsx')\n",
    "cbf_80_steps = pd.read_excel('step_removal_raw/cbf_80_steps.xlsx')\n",
    "cbf_90_steps = pd.read_excel('step_removal_raw/cbf_90_steps.xlsx')\n",
    "cbf_100_steps = pd.read_excel('step_removal_raw/cbf_100_steps.xlsx')"
   ]
  },
  {
   "cell_type": "code",
   "execution_count": 23,
   "id": "5d04d334",
   "metadata": {},
   "outputs": [],
   "source": [
    "no_cbf['removed_steps'] = 'No CBF'\n",
    "cbf_10_steps['removed_steps'] = '10'\n",
    "cbf_20_steps['removed_steps'] = '20'\n",
    "cbf_30_steps['removed_steps'] = '30'\n",
    "cbf_40_steps['removed_steps'] = '40'\n",
    "cbf_50_steps['removed_steps'] = '50'\n",
    "cbf_60_steps['removed_steps'] = '60'\n",
    "cbf_70_steps['removed_steps'] = '70'\n",
    "cbf_80_steps['removed_steps'] = '80'\n",
    "cbf_90_steps['removed_steps'] = '90'\n",
    "cbf_100_steps['removed_steps'] = '100'\n",
    "\n",
    "comparison_df = pd.concat([no_cbf, cbf_10_steps, cbf_20_steps, cbf_30_steps, cbf_40_steps, cbf_50_steps, cbf_60_steps, cbf_70_steps, cbf_80_steps, cbf_90_steps, cbf_100_steps])"
   ]
  },
  {
   "cell_type": "code",
   "execution_count": 24,
   "id": "81f12b8a",
   "metadata": {},
   "outputs": [
    {
     "data": {
      "text/html": [
       "<div>\n",
       "<style scoped>\n",
       "    .dataframe tbody tr th:only-of-type {\n",
       "        vertical-align: middle;\n",
       "    }\n",
       "\n",
       "    .dataframe tbody tr th {\n",
       "        vertical-align: top;\n",
       "    }\n",
       "\n",
       "    .dataframe thead th {\n",
       "        text-align: right;\n",
       "    }\n",
       "</style>\n",
       "<table border=\"1\" class=\"dataframe\">\n",
       "  <thead>\n",
       "    <tr style=\"text-align: right;\">\n",
       "      <th></th>\n",
       "      <th>collision%</th>\n",
       "      <th>overtake%</th>\n",
       "      <th>removed_steps</th>\n",
       "    </tr>\n",
       "  </thead>\n",
       "  <tbody>\n",
       "    <tr>\n",
       "      <th>0</th>\n",
       "      <td>0.81</td>\n",
       "      <td>0.14</td>\n",
       "      <td>No CBF</td>\n",
       "    </tr>\n",
       "    <tr>\n",
       "      <th>1</th>\n",
       "      <td>0.88</td>\n",
       "      <td>0.12</td>\n",
       "      <td>No CBF</td>\n",
       "    </tr>\n",
       "    <tr>\n",
       "      <th>2</th>\n",
       "      <td>0.90</td>\n",
       "      <td>0.09</td>\n",
       "      <td>No CBF</td>\n",
       "    </tr>\n",
       "    <tr>\n",
       "      <th>3</th>\n",
       "      <td>0.90</td>\n",
       "      <td>0.10</td>\n",
       "      <td>No CBF</td>\n",
       "    </tr>\n",
       "    <tr>\n",
       "      <th>4</th>\n",
       "      <td>0.89</td>\n",
       "      <td>0.06</td>\n",
       "      <td>No CBF</td>\n",
       "    </tr>\n",
       "    <tr>\n",
       "      <th>...</th>\n",
       "      <td>...</td>\n",
       "      <td>...</td>\n",
       "      <td>...</td>\n",
       "    </tr>\n",
       "    <tr>\n",
       "      <th>5</th>\n",
       "      <td>0.68</td>\n",
       "      <td>0.32</td>\n",
       "      <td>100</td>\n",
       "    </tr>\n",
       "    <tr>\n",
       "      <th>6</th>\n",
       "      <td>0.68</td>\n",
       "      <td>0.32</td>\n",
       "      <td>100</td>\n",
       "    </tr>\n",
       "    <tr>\n",
       "      <th>7</th>\n",
       "      <td>0.62</td>\n",
       "      <td>0.35</td>\n",
       "      <td>100</td>\n",
       "    </tr>\n",
       "    <tr>\n",
       "      <th>8</th>\n",
       "      <td>0.43</td>\n",
       "      <td>0.45</td>\n",
       "      <td>100</td>\n",
       "    </tr>\n",
       "    <tr>\n",
       "      <th>9</th>\n",
       "      <td>0.62</td>\n",
       "      <td>0.35</td>\n",
       "      <td>100</td>\n",
       "    </tr>\n",
       "  </tbody>\n",
       "</table>\n",
       "<p>110 rows × 3 columns</p>\n",
       "</div>"
      ],
      "text/plain": [
       "    collision%  overtake% removed_steps\n",
       "0         0.81       0.14        No CBF\n",
       "1         0.88       0.12        No CBF\n",
       "2         0.90       0.09        No CBF\n",
       "3         0.90       0.10        No CBF\n",
       "4         0.89       0.06        No CBF\n",
       "..         ...        ...           ...\n",
       "5         0.68       0.32           100\n",
       "6         0.68       0.32           100\n",
       "7         0.62       0.35           100\n",
       "8         0.43       0.45           100\n",
       "9         0.62       0.35           100\n",
       "\n",
       "[110 rows x 3 columns]"
      ]
     },
     "execution_count": 24,
     "metadata": {},
     "output_type": "execute_result"
    }
   ],
   "source": [
    "comparison_df"
   ]
  },
  {
   "cell_type": "code",
   "execution_count": 36,
   "id": "2c061272",
   "metadata": {},
   "outputs": [
    {
     "ename": "TypeError",
     "evalue": "update() got an unexpected keyword argument 'hspace'",
     "output_type": "error",
     "traceback": [
      "\u001b[0;31m---------------------------------------------------------------------------\u001b[0m",
      "\u001b[0;31mTypeError\u001b[0m                                 Traceback (most recent call last)",
      "Cell \u001b[0;32mIn[36], line 2\u001b[0m\n\u001b[1;32m      1\u001b[0m fig, axarr \u001b[38;5;241m=\u001b[39m plt\u001b[38;5;241m.\u001b[39msubplots(\u001b[38;5;241m1\u001b[39m, \u001b[38;5;241m2\u001b[39m, figsize\u001b[38;5;241m=\u001b[39m(\u001b[38;5;241m10\u001b[39m, \u001b[38;5;241m4.2\u001b[39m))\n\u001b[0;32m----> 2\u001b[0m \u001b[43mfig\u001b[49m\u001b[38;5;241;43m.\u001b[39;49m\u001b[43mupdate\u001b[49m\u001b[43m(\u001b[49m\u001b[43mhspace\u001b[49m\u001b[38;5;241;43m=\u001b[39;49m\u001b[38;5;241;43m0.5\u001b[39;49m\u001b[43m)\u001b[49m\n\u001b[1;32m      3\u001b[0m hue_order \u001b[38;5;241m=\u001b[39m [\u001b[38;5;124m'\u001b[39m\u001b[38;5;124mNo CBF\u001b[39m\u001b[38;5;124m'\u001b[39m, \u001b[38;5;124m'\u001b[39m\u001b[38;5;124m10\u001b[39m\u001b[38;5;124m'\u001b[39m, \u001b[38;5;124m'\u001b[39m\u001b[38;5;124m20\u001b[39m\u001b[38;5;124m'\u001b[39m, \u001b[38;5;124m'\u001b[39m\u001b[38;5;124m30\u001b[39m\u001b[38;5;124m'\u001b[39m, \u001b[38;5;124m'\u001b[39m\u001b[38;5;124m40\u001b[39m\u001b[38;5;124m'\u001b[39m, \u001b[38;5;124m'\u001b[39m\u001b[38;5;124m50\u001b[39m\u001b[38;5;124m'\u001b[39m, \u001b[38;5;124m'\u001b[39m\u001b[38;5;124m60\u001b[39m\u001b[38;5;124m'\u001b[39m, \u001b[38;5;124m'\u001b[39m\u001b[38;5;124m70\u001b[39m\u001b[38;5;124m'\u001b[39m, \u001b[38;5;124m'\u001b[39m\u001b[38;5;124m80\u001b[39m\u001b[38;5;124m'\u001b[39m, \u001b[38;5;124m'\u001b[39m\u001b[38;5;124m90\u001b[39m\u001b[38;5;124m'\u001b[39m, \u001b[38;5;124m'\u001b[39m\u001b[38;5;124m100\u001b[39m\u001b[38;5;124m'\u001b[39m]\n\u001b[1;32m      4\u001b[0m a \u001b[38;5;241m=\u001b[39m sns\u001b[38;5;241m.\u001b[39mboxplot(x\u001b[38;5;241m=\u001b[39m\u001b[38;5;124m'\u001b[39m\u001b[38;5;124mcollision\u001b[39m\u001b[38;5;124m%\u001b[39m\u001b[38;5;124m'\u001b[39m, y\u001b[38;5;241m=\u001b[39m\u001b[38;5;124m'\u001b[39m\u001b[38;5;124mremoved_steps\u001b[39m\u001b[38;5;124m'\u001b[39m, data\u001b[38;5;241m=\u001b[39mcomparison_df, ax\u001b[38;5;241m=\u001b[39maxarr[\u001b[38;5;241m0\u001b[39m], hue_order\u001b[38;5;241m=\u001b[39mhue_order)\n",
      "\u001b[0;31mTypeError\u001b[0m: update() got an unexpected keyword argument 'hspace'"
     ]
    },
    {
     "data": {
      "image/png": "[encoded data removed]",
      "text/plain": [
       "<Figure size 1000x420 with 2 Axes>"
      ]
     },
     "metadata": {},
     "output_type": "display_data"
    }
   ],
   "source": [
    "fig, axarr = plt.subplots(1, 2, figsize=(10, 4.2))\n",
    "hue_order = ['No CBF', '10', '20', '30', '40', '50', '60', '70', '80', '90', '100']\n",
    "a = sns.boxplot(x='collision%', y='removed_steps', data=comparison_df, ax=axarr[0], hue_order=hue_order)\n",
    "b = sns.boxplot(x='overtake%', y='removed_steps', data=comparison_df, ax=axarr[1], hue_order=hue_order)\n",
    "\n",
    "a.set_xlabel('Collision Rate')\n",
    "a.set_ylabel('Number of Removed Steps')\n",
    "\n",
    "b.set_xlabel('Overtake Rate')\n",
    "b.set_yticks(())\n",
    "b.set(ylabel=None)"
   ]
  },
  {
   "cell_type": "code",
   "execution_count": null,
   "id": "7c35c9ee",
   "metadata": {},
   "outputs": [],
   "source": []
  }
 ],
 "metadata": {
  "kernelspec": {
   "display_name": "Python 3 (ipykernel)",
   "language": "python",
   "name": "python3"
  },
  "language_info": {
   "codemirror_mode": {
    "name": "ipython",
    "version": 3
   },
   "file_extension": ".py",
   "mimetype": "text/x-python",
   "name": "python",
   "nbconvert_exporter": "python",
   "pygments_lexer": "ipython3",
   "version": "3.8.10"
  },
  "vscode": {
   "interpreter": {
    "hash": "00d2aca437632f20c463fbd5e89baf3ecd5442bb4d00ed06f4a15381b2a752b4"
   }
  }
 },
 "nbformat": 4,
 "nbformat_minor": 5
}
