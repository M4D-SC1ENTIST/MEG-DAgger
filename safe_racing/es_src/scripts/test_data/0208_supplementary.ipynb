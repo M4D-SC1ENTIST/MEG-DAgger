{
 "cells": [
  {
   "cell_type": "code",
   "execution_count": 1,
   "metadata": {},
   "outputs": [],
   "source": [
    "import pandas as pd\n",
    "import numpy as np\n",
    "import seaborn as sns\n",
    "\n",
    "import random\n",
    "\n",
    "import matplotlib\n",
    "import matplotlib.pyplot as plt\n",
    "from matplotlib import transforms"
   ]
  },
  {
   "attachments": {},
   "cell_type": "markdown",
   "metadata": {},
   "source": [
    "# Conflict check visualization"
   ]
  },
  {
   "cell_type": "code",
   "execution_count": 40,
   "metadata": {},
   "outputs": [],
   "source": [
    "conflict_resolution_log = pd.read_csv('conflict_resolution_log.csv')"
   ]
  },
  {
   "cell_type": "code",
   "execution_count": 41,
   "metadata": {},
   "outputs": [
    {
     "data": {
      "text/html": [
       "<div>\n",
       "<style scoped>\n",
       "    .dataframe tbody tr th:only-of-type {\n",
       "        vertical-align: middle;\n",
       "    }\n",
       "\n",
       "    .dataframe tbody tr th {\n",
       "        vertical-align: top;\n",
       "    }\n",
       "\n",
       "    .dataframe thead th {\n",
       "        text-align: right;\n",
       "    }\n",
       "</style>\n",
       "<table border=\"1\" class=\"dataframe\">\n",
       "  <thead>\n",
       "    <tr style=\"text-align: right;\">\n",
       "      <th></th>\n",
       "      <th>conflict_idx</th>\n",
       "      <th>lidar</th>\n",
       "      <th>action_steer</th>\n",
       "      <th>action_speed</th>\n",
       "    </tr>\n",
       "  </thead>\n",
       "  <tbody>\n",
       "    <tr>\n",
       "      <th>0</th>\n",
       "      <td>1</td>\n",
       "      <td>[ 3.01588662  3.01310549  2.92437485  2.914327...</td>\n",
       "      <td>0.101254</td>\n",
       "      <td>6.246841</td>\n",
       "    </tr>\n",
       "    <tr>\n",
       "      <th>1</th>\n",
       "      <td>1</td>\n",
       "      <td>[ 3.01412899  2.95217388  2.93283566  2.890607...</td>\n",
       "      <td>0.138007</td>\n",
       "      <td>6.258821</td>\n",
       "    </tr>\n",
       "    <tr>\n",
       "      <th>2</th>\n",
       "      <td>2</td>\n",
       "      <td>[ 3.01588662  3.01310549  2.92437485  2.914327...</td>\n",
       "      <td>0.101254</td>\n",
       "      <td>6.246841</td>\n",
       "    </tr>\n",
       "    <tr>\n",
       "      <th>3</th>\n",
       "      <td>2</td>\n",
       "      <td>[ 3.01412899  2.95217388  2.93283566  2.890607...</td>\n",
       "      <td>0.138007</td>\n",
       "      <td>6.258821</td>\n",
       "    </tr>\n",
       "    <tr>\n",
       "      <th>4</th>\n",
       "      <td>3</td>\n",
       "      <td>[ 3.01167543  2.98242244  2.93004736  2.895400...</td>\n",
       "      <td>0.092373</td>\n",
       "      <td>6.254828</td>\n",
       "    </tr>\n",
       "    <tr>\n",
       "      <th>...</th>\n",
       "      <td>...</td>\n",
       "      <td>...</td>\n",
       "      <td>...</td>\n",
       "      <td>...</td>\n",
       "    </tr>\n",
       "    <tr>\n",
       "      <th>260711</th>\n",
       "      <td>42713</td>\n",
       "      <td>[1.56181595 1.49441742 1.44309872 1.43834626 1...</td>\n",
       "      <td>0.105434</td>\n",
       "      <td>8.000000</td>\n",
       "    </tr>\n",
       "    <tr>\n",
       "      <th>260712</th>\n",
       "      <td>42714</td>\n",
       "      <td>[1.42028565 1.35700798 1.30069473 1.30770616 1...</td>\n",
       "      <td>0.089494</td>\n",
       "      <td>8.000000</td>\n",
       "    </tr>\n",
       "    <tr>\n",
       "      <th>260713</th>\n",
       "      <td>42714</td>\n",
       "      <td>[1.55068943 1.51119041 1.49127144 1.37849247 1...</td>\n",
       "      <td>-0.002432</td>\n",
       "      <td>8.000000</td>\n",
       "    </tr>\n",
       "    <tr>\n",
       "      <th>260714</th>\n",
       "      <td>42714</td>\n",
       "      <td>[1.58753722 1.43287992 1.43453248 1.36746053 1...</td>\n",
       "      <td>0.084699</td>\n",
       "      <td>8.000000</td>\n",
       "    </tr>\n",
       "    <tr>\n",
       "      <th>260715</th>\n",
       "      <td>42714</td>\n",
       "      <td>[1.5687378  1.51298017 1.44235892 1.43231914 1...</td>\n",
       "      <td>0.106521</td>\n",
       "      <td>8.000000</td>\n",
       "    </tr>\n",
       "  </tbody>\n",
       "</table>\n",
       "<p>260716 rows × 4 columns</p>\n",
       "</div>"
      ],
      "text/plain": [
       "        conflict_idx                                              lidar  \\\n",
       "0                  1  [ 3.01588662  3.01310549  2.92437485  2.914327...   \n",
       "1                  1  [ 3.01412899  2.95217388  2.93283566  2.890607...   \n",
       "2                  2  [ 3.01588662  3.01310549  2.92437485  2.914327...   \n",
       "3                  2  [ 3.01412899  2.95217388  2.93283566  2.890607...   \n",
       "4                  3  [ 3.01167543  2.98242244  2.93004736  2.895400...   \n",
       "...              ...                                                ...   \n",
       "260711         42713  [1.56181595 1.49441742 1.44309872 1.43834626 1...   \n",
       "260712         42714  [1.42028565 1.35700798 1.30069473 1.30770616 1...   \n",
       "260713         42714  [1.55068943 1.51119041 1.49127144 1.37849247 1...   \n",
       "260714         42714  [1.58753722 1.43287992 1.43453248 1.36746053 1...   \n",
       "260715         42714  [1.5687378  1.51298017 1.44235892 1.43231914 1...   \n",
       "\n",
       "        action_steer  action_speed  \n",
       "0           0.101254      6.246841  \n",
       "1           0.138007      6.258821  \n",
       "2           0.101254      6.246841  \n",
       "3           0.138007      6.258821  \n",
       "4           0.092373      6.254828  \n",
       "...              ...           ...  \n",
       "260711      0.105434      8.000000  \n",
       "260712      0.089494      8.000000  \n",
       "260713     -0.002432      8.000000  \n",
       "260714      0.084699      8.000000  \n",
       "260715      0.106521      8.000000  \n",
       "\n",
       "[260716 rows x 4 columns]"
      ]
     },
     "execution_count": 41,
     "metadata": {},
     "output_type": "execute_result"
    }
   ],
   "source": [
    "conflict_resolution_log"
   ]
  },
  {
   "cell_type": "code",
   "execution_count": 42,
   "metadata": {},
   "outputs": [],
   "source": [
    "sample_conflict_id = []\n",
    "for i in range(10):\n",
    "    sample_conflict_id.append(random.randint(0, 42713))"
   ]
  },
  {
   "cell_type": "code",
   "execution_count": 82,
   "metadata": {},
   "outputs": [
    {
     "data": {
      "text/plain": [
       "[11102, 40287, 6510, 31881, 23015, 16728, 24902, 9131, 15900, 4274]"
      ]
     },
     "execution_count": 82,
     "metadata": {},
     "output_type": "execute_result"
    }
   ],
   "source": [
    "sample_conflict_id"
   ]
  },
  {
   "cell_type": "code",
   "execution_count": 44,
   "metadata": {},
   "outputs": [],
   "source": [
    "lidar_converted_conflict_log = conflict_resolution_log.copy()\n",
    "lidar_converted_conflict_log['lidar'] = lidar_converted_conflict_log['lidar'].apply(lambda x: \n",
    "                                        np.fromstring(\n",
    "                                                        x.replace('\\n','')\n",
    "                                                        .replace('[','')\n",
    "                                                        .replace(']','')\n",
    "                                                        .replace('  ',' '), sep=' '))"
   ]
  },
  {
   "cell_type": "code",
   "execution_count": 45,
   "metadata": {},
   "outputs": [
    {
     "data": {
      "text/html": [
       "<div>\n",
       "<style scoped>\n",
       "    .dataframe tbody tr th:only-of-type {\n",
       "        vertical-align: middle;\n",
       "    }\n",
       "\n",
       "    .dataframe tbody tr th {\n",
       "        vertical-align: top;\n",
       "    }\n",
       "\n",
       "    .dataframe thead th {\n",
       "        text-align: right;\n",
       "    }\n",
       "</style>\n",
       "<table border=\"1\" class=\"dataframe\">\n",
       "  <thead>\n",
       "    <tr style=\"text-align: right;\">\n",
       "      <th></th>\n",
       "      <th>conflict_idx</th>\n",
       "      <th>lidar</th>\n",
       "      <th>action_steer</th>\n",
       "      <th>action_speed</th>\n",
       "    </tr>\n",
       "  </thead>\n",
       "  <tbody>\n",
       "    <tr>\n",
       "      <th>0</th>\n",
       "      <td>1</td>\n",
       "      <td>[3.01588662, 3.01310549, 2.92437485, 2.9143273...</td>\n",
       "      <td>0.101254</td>\n",
       "      <td>6.246841</td>\n",
       "    </tr>\n",
       "    <tr>\n",
       "      <th>1</th>\n",
       "      <td>1</td>\n",
       "      <td>[3.01412899, 2.95217388, 2.93283566, 2.8906070...</td>\n",
       "      <td>0.138007</td>\n",
       "      <td>6.258821</td>\n",
       "    </tr>\n",
       "    <tr>\n",
       "      <th>2</th>\n",
       "      <td>2</td>\n",
       "      <td>[3.01588662, 3.01310549, 2.92437485, 2.9143273...</td>\n",
       "      <td>0.101254</td>\n",
       "      <td>6.246841</td>\n",
       "    </tr>\n",
       "    <tr>\n",
       "      <th>3</th>\n",
       "      <td>2</td>\n",
       "      <td>[3.01412899, 2.95217388, 2.93283566, 2.8906070...</td>\n",
       "      <td>0.138007</td>\n",
       "      <td>6.258821</td>\n",
       "    </tr>\n",
       "    <tr>\n",
       "      <th>4</th>\n",
       "      <td>3</td>\n",
       "      <td>[3.01167543, 2.98242244, 2.93004736, 2.8954002...</td>\n",
       "      <td>0.092373</td>\n",
       "      <td>6.254828</td>\n",
       "    </tr>\n",
       "    <tr>\n",
       "      <th>...</th>\n",
       "      <td>...</td>\n",
       "      <td>...</td>\n",
       "      <td>...</td>\n",
       "      <td>...</td>\n",
       "    </tr>\n",
       "    <tr>\n",
       "      <th>260711</th>\n",
       "      <td>42713</td>\n",
       "      <td>[1.56181595, 1.49441742, 1.44309872, 1.4383462...</td>\n",
       "      <td>0.105434</td>\n",
       "      <td>8.000000</td>\n",
       "    </tr>\n",
       "    <tr>\n",
       "      <th>260712</th>\n",
       "      <td>42714</td>\n",
       "      <td>[1.42028565, 1.35700798, 1.30069473, 1.3077061...</td>\n",
       "      <td>0.089494</td>\n",
       "      <td>8.000000</td>\n",
       "    </tr>\n",
       "    <tr>\n",
       "      <th>260713</th>\n",
       "      <td>42714</td>\n",
       "      <td>[1.55068943, 1.51119041, 1.49127144, 1.3784924...</td>\n",
       "      <td>-0.002432</td>\n",
       "      <td>8.000000</td>\n",
       "    </tr>\n",
       "    <tr>\n",
       "      <th>260714</th>\n",
       "      <td>42714</td>\n",
       "      <td>[1.58753722, 1.43287992, 1.43453248, 1.3674605...</td>\n",
       "      <td>0.084699</td>\n",
       "      <td>8.000000</td>\n",
       "    </tr>\n",
       "    <tr>\n",
       "      <th>260715</th>\n",
       "      <td>42714</td>\n",
       "      <td>[1.5687378, 1.51298017, 1.44235892, 1.43231914...</td>\n",
       "      <td>0.106521</td>\n",
       "      <td>8.000000</td>\n",
       "    </tr>\n",
       "  </tbody>\n",
       "</table>\n",
       "<p>260716 rows × 4 columns</p>\n",
       "</div>"
      ],
      "text/plain": [
       "        conflict_idx                                              lidar  \\\n",
       "0                  1  [3.01588662, 3.01310549, 2.92437485, 2.9143273...   \n",
       "1                  1  [3.01412899, 2.95217388, 2.93283566, 2.8906070...   \n",
       "2                  2  [3.01588662, 3.01310549, 2.92437485, 2.9143273...   \n",
       "3                  2  [3.01412899, 2.95217388, 2.93283566, 2.8906070...   \n",
       "4                  3  [3.01167543, 2.98242244, 2.93004736, 2.8954002...   \n",
       "...              ...                                                ...   \n",
       "260711         42713  [1.56181595, 1.49441742, 1.44309872, 1.4383462...   \n",
       "260712         42714  [1.42028565, 1.35700798, 1.30069473, 1.3077061...   \n",
       "260713         42714  [1.55068943, 1.51119041, 1.49127144, 1.3784924...   \n",
       "260714         42714  [1.58753722, 1.43287992, 1.43453248, 1.3674605...   \n",
       "260715         42714  [1.5687378, 1.51298017, 1.44235892, 1.43231914...   \n",
       "\n",
       "        action_steer  action_speed  \n",
       "0           0.101254      6.246841  \n",
       "1           0.138007      6.258821  \n",
       "2           0.101254      6.246841  \n",
       "3           0.138007      6.258821  \n",
       "4           0.092373      6.254828  \n",
       "...              ...           ...  \n",
       "260711      0.105434      8.000000  \n",
       "260712      0.089494      8.000000  \n",
       "260713     -0.002432      8.000000  \n",
       "260714      0.084699      8.000000  \n",
       "260715      0.106521      8.000000  \n",
       "\n",
       "[260716 rows x 4 columns]"
      ]
     },
     "execution_count": 45,
     "metadata": {},
     "output_type": "execute_result"
    }
   ],
   "source": [
    "lidar_converted_conflict_log"
   ]
  },
  {
   "cell_type": "code",
   "execution_count": 46,
   "metadata": {},
   "outputs": [],
   "source": [
    "test_vis_lidar = lidar_converted_conflict_log.iloc[lidar_converted_conflict_log.index==0]['lidar'][0].copy()"
   ]
  },
  {
   "cell_type": "code",
   "execution_count": 47,
   "metadata": {},
   "outputs": [],
   "source": [
    "def recover_pos_pt_from_ray(theta_index, sines, cosines, ray_dist):\n",
    "    theta_index_ = int(theta_index)\n",
    "    s = sines[theta_index_]\n",
    "    c = cosines[theta_index_]\n",
    "\n",
    "    x = ray_dist * c\n",
    "    y = ray_dist * s\n",
    "\n",
    "    return x, y"
   ]
  },
  {
   "cell_type": "code",
   "execution_count": 48,
   "metadata": {},
   "outputs": [],
   "source": [
    "def vis_lidar(lidar, ax=None, rot=False):\n",
    "    # Convert lidar scan to position points in local frame\n",
    "    \n",
    "    theta_dis = 2000\n",
    "    fov = 4.7\n",
    "    num_beams = 1080\n",
    "    num_beams_after_downsampling = 108\n",
    "\n",
    "    pos_pts = np.empty((num_beams_after_downsampling, 2))\n",
    "\n",
    "    angle_increment = fov / (num_beams - 1)\n",
    "    angle_increment_after_downsampling = fov / (num_beams_after_downsampling - 1)\n",
    "\n",
    "    theta_index_increment = theta_dis * angle_increment / (2. * np.pi)\n",
    "    theta_index_increment_after_downsampling = theta_dis * angle_increment_after_downsampling / (2. * np.pi)\n",
    "\n",
    "    theta_index = theta_dis * (np.pi - fov / 2.) / (2. * np.pi)\n",
    "\n",
    "    theta_index = np.fmod(theta_index, theta_dis)\n",
    "\n",
    "    \n",
    "    theta_arr = np.linspace(0.0, 2*np.pi, num=theta_dis)\n",
    "    sines = np.sin(theta_arr)\n",
    "    cosines = np.cos(theta_arr)\n",
    "    eps = 0.0001\n",
    "\n",
    "    while (theta_index < 0):\n",
    "        theta_index += theta_dis\n",
    "\n",
    "    for i in range(0, num_beams_after_downsampling):\n",
    "        pos_pts[i, :] = recover_pos_pt_from_ray(theta_index, sines, cosines, lidar[i])\n",
    "        theta_index += theta_index_increment_after_downsampling\n",
    "\n",
    "        while theta_index >= theta_dis:\n",
    "            theta_index -= theta_dis\n",
    "\n",
    "\n",
    "    # Visualize\n",
    "\n",
    "    if ax is None:\n",
    "        fig, ax = plt.subplots(figsize=(5,5))\n",
    "\n",
    "    if rot:\n",
    "        ax.set_xlim(-7.7, 7.7)\n",
    "        ax.set_ylim(-5.5, 5)\n",
    "    else:\n",
    "        ax.set_xlim(-7.5, 2.0)\n",
    "        ax.set_ylim(-3.5, 3,5)\n",
    "\n",
    "    if rot:\n",
    "        ax.scatter(pos_pts[:, 1], pos_pts[:, 0], c='b', s=1)\n",
    "    else:\n",
    "        ax.scatter(pos_pts[:, 0], pos_pts[:, 1], c='b', s=1)\n",
    "\n",
    "    ax.set_aspect('equal')\n",
    "    return ax"
   ]
  },
  {
   "cell_type": "code",
   "execution_count": 49,
   "metadata": {},
   "outputs": [
    {
     "name": "stderr",
     "output_type": "stream",
     "text": [
      "/tmp/ipykernel_7629/3540318241.py:48: MatplotlibDeprecationWarning: Passing the emit parameter of set_ylim() positionally is deprecated since Matplotlib 3.6; the parameter will become keyword-only two minor releases later.\n",
      "  ax.set_ylim(-3.5, 3,5)\n"
     ]
    },
    {
     "data": {
      "text/plain": [
       "<AxesSubplot: >"
      ]
     },
     "execution_count": 49,
     "metadata": {},
     "output_type": "execute_result"
    },
    {
     "data": {
      "image/png": "[encoded data removed]",
      "text/plain": [
       "<Figure size 500x500 with 1 Axes>"
      ]
     },
     "metadata": {},
     "output_type": "display_data"
    }
   ],
   "source": [
    "vis_lidar(test_vis_lidar)"
   ]
  },
  {
   "cell_type": "code",
   "execution_count": 50,
   "metadata": {},
   "outputs": [],
   "source": [
    "sample_1 = lidar_converted_conflict_log.loc[lidar_converted_conflict_log['conflict_idx']==sample_conflict_id[2]]\n",
    "sample_2 = lidar_converted_conflict_log.loc[lidar_converted_conflict_log['conflict_idx']==sample_conflict_id[4]]\n",
    "sample_3 = lidar_converted_conflict_log.loc[lidar_converted_conflict_log['conflict_idx']==sample_conflict_id[6]]\n",
    "sample_4 = lidar_converted_conflict_log.loc[lidar_converted_conflict_log['conflict_idx']==sample_conflict_id[8]]\n",
    "sample_5 = lidar_converted_conflict_log.loc[lidar_converted_conflict_log['conflict_idx']==sample_conflict_id[9]]"
   ]
  },
  {
   "cell_type": "code",
   "execution_count": 51,
   "metadata": {},
   "outputs": [
    {
     "data": {
      "text/html": [
       "<div>\n",
       "<style scoped>\n",
       "    .dataframe tbody tr th:only-of-type {\n",
       "        vertical-align: middle;\n",
       "    }\n",
       "\n",
       "    .dataframe tbody tr th {\n",
       "        vertical-align: top;\n",
       "    }\n",
       "\n",
       "    .dataframe thead th {\n",
       "        text-align: right;\n",
       "    }\n",
       "</style>\n",
       "<table border=\"1\" class=\"dataframe\">\n",
       "  <thead>\n",
       "    <tr style=\"text-align: right;\">\n",
       "      <th></th>\n",
       "      <th>conflict_idx</th>\n",
       "      <th>lidar</th>\n",
       "      <th>action_steer</th>\n",
       "      <th>action_speed</th>\n",
       "    </tr>\n",
       "  </thead>\n",
       "  <tbody>\n",
       "    <tr>\n",
       "      <th>35618</th>\n",
       "      <td>6510</td>\n",
       "      <td>[2.48724101, 2.42116905, 2.26606404, 2.2472723...</td>\n",
       "      <td>-0.016727</td>\n",
       "      <td>8.0</td>\n",
       "    </tr>\n",
       "    <tr>\n",
       "      <th>35619</th>\n",
       "      <td>6510</td>\n",
       "      <td>[2.63772109, 2.47750945, 2.39710262, 2.2362593...</td>\n",
       "      <td>-0.045751</td>\n",
       "      <td>8.0</td>\n",
       "    </tr>\n",
       "    <tr>\n",
       "      <th>35620</th>\n",
       "      <td>6510</td>\n",
       "      <td>[2.51467066, 2.46359055, 2.29192339, 2.2801380...</td>\n",
       "      <td>-0.038445</td>\n",
       "      <td>8.0</td>\n",
       "    </tr>\n",
       "    <tr>\n",
       "      <th>35621</th>\n",
       "      <td>6510</td>\n",
       "      <td>[2.60082989, 2.39714784, 2.32034726, 2.2249068...</td>\n",
       "      <td>1.672580</td>\n",
       "      <td>8.0</td>\n",
       "    </tr>\n",
       "    <tr>\n",
       "      <th>35622</th>\n",
       "      <td>6510</td>\n",
       "      <td>[2.50424905, 2.37551274, 2.26621344, 2.1161900...</td>\n",
       "      <td>-0.041100</td>\n",
       "      <td>8.0</td>\n",
       "    </tr>\n",
       "    <tr>\n",
       "      <th>35623</th>\n",
       "      <td>6510</td>\n",
       "      <td>[2.4645661, 2.40757649, 2.22531111, 2.16750183...</td>\n",
       "      <td>-0.045165</td>\n",
       "      <td>8.0</td>\n",
       "    </tr>\n",
       "    <tr>\n",
       "      <th>35624</th>\n",
       "      <td>6510</td>\n",
       "      <td>[2.4624291, 2.32623606, 2.2337286, 2.16716116,...</td>\n",
       "      <td>-0.031273</td>\n",
       "      <td>8.0</td>\n",
       "    </tr>\n",
       "  </tbody>\n",
       "</table>\n",
       "</div>"
      ],
      "text/plain": [
       "       conflict_idx                                              lidar  \\\n",
       "35618          6510  [2.48724101, 2.42116905, 2.26606404, 2.2472723...   \n",
       "35619          6510  [2.63772109, 2.47750945, 2.39710262, 2.2362593...   \n",
       "35620          6510  [2.51467066, 2.46359055, 2.29192339, 2.2801380...   \n",
       "35621          6510  [2.60082989, 2.39714784, 2.32034726, 2.2249068...   \n",
       "35622          6510  [2.50424905, 2.37551274, 2.26621344, 2.1161900...   \n",
       "35623          6510  [2.4645661, 2.40757649, 2.22531111, 2.16750183...   \n",
       "35624          6510  [2.4624291, 2.32623606, 2.2337286, 2.16716116,...   \n",
       "\n",
       "       action_steer  action_speed  \n",
       "35618     -0.016727           8.0  \n",
       "35619     -0.045751           8.0  \n",
       "35620     -0.038445           8.0  \n",
       "35621      1.672580           8.0  \n",
       "35622     -0.041100           8.0  \n",
       "35623     -0.045165           8.0  \n",
       "35624     -0.031273           8.0  "
      ]
     },
     "execution_count": 51,
     "metadata": {},
     "output_type": "execute_result"
    }
   ],
   "source": [
    "sample_1"
   ]
  },
  {
   "cell_type": "code",
   "execution_count": 52,
   "metadata": {},
   "outputs": [
    {
     "data": {
      "text/html": [
       "<div>\n",
       "<style scoped>\n",
       "    .dataframe tbody tr th:only-of-type {\n",
       "        vertical-align: middle;\n",
       "    }\n",
       "\n",
       "    .dataframe tbody tr th {\n",
       "        vertical-align: top;\n",
       "    }\n",
       "\n",
       "    .dataframe thead th {\n",
       "        text-align: right;\n",
       "    }\n",
       "</style>\n",
       "<table border=\"1\" class=\"dataframe\">\n",
       "  <thead>\n",
       "    <tr style=\"text-align: right;\">\n",
       "      <th></th>\n",
       "      <th>conflict_idx</th>\n",
       "      <th>lidar</th>\n",
       "      <th>action_steer</th>\n",
       "      <th>action_speed</th>\n",
       "    </tr>\n",
       "  </thead>\n",
       "  <tbody>\n",
       "    <tr>\n",
       "      <th>35621</th>\n",
       "      <td>6510</td>\n",
       "      <td>[2.60082989, 2.39714784, 2.32034726, 2.2249068...</td>\n",
       "      <td>1.67258</td>\n",
       "      <td>8.0</td>\n",
       "    </tr>\n",
       "  </tbody>\n",
       "</table>\n",
       "</div>"
      ],
      "text/plain": [
       "       conflict_idx                                              lidar  \\\n",
       "35621          6510  [2.60082989, 2.39714784, 2.32034726, 2.2249068...   \n",
       "\n",
       "       action_steer  action_speed  \n",
       "35621       1.67258           8.0  "
      ]
     },
     "execution_count": 52,
     "metadata": {},
     "output_type": "execute_result"
    }
   ],
   "source": [
    "sample_1_selected_row_1 = sample_1.iloc[sample_1.index==35621]\n",
    "sample_1_selected_row_2 = sample_1.iloc[sample_1.index==35618]\n",
    "sample_1_selected_row_1"
   ]
  },
  {
   "cell_type": "code",
   "execution_count": 53,
   "metadata": {},
   "outputs": [
    {
     "data": {
      "text/plain": [
       "array([ 2.48724101,  2.42116905,  2.26606404,  2.24727231,  2.12296315,\n",
       "        1.97656729,  1.94870517,  1.91839824,  1.8257359 ,  1.79714634,\n",
       "        1.7997097 ,  1.75179077,  1.65734873,  1.62497886,  1.6532113 ,\n",
       "        1.65051565,  1.61306173,  1.59772735,  1.63168154,  1.61217008,\n",
       "        1.61988104,  1.59318196,  1.54782363,  1.63906353,  1.61601845,\n",
       "        1.61590096,  1.61912397,  1.60540241,  1.68716729,  1.71322631,\n",
       "        1.72741152,  1.71560946,  1.82489295,  1.86261345,  1.92828564,\n",
       "        1.94245543,  2.05619472,  2.10651447,  2.24435233,  2.31803686,\n",
       "        2.33964608,  2.53844978,  2.71190481,  2.88749683,  3.07874159,\n",
       "        3.35890075,  3.63253018,  4.00518034,  4.38073189,  4.92552586,\n",
       "        5.79874331,  6.62539049,  8.20787189,  9.51123938, 10.21884464,\n",
       "       10.71458553, 11.11882485, 11.40318576, 11.6479554 , 11.79956466,\n",
       "       11.91234543,  7.51872735,  6.18068069,  5.31546225,  4.62283266,\n",
       "        4.02997663,  3.72988901,  3.39612361,  3.08651946,  2.8153204 ,\n",
       "        2.67787464,  2.60477254,  2.37097588,  2.31414687,  2.1369874 ,\n",
       "        2.06319299,  2.00138356,  1.91262514,  1.78666845,  1.79971019,\n",
       "        1.73940606,  1.69287434,  1.66078107,  1.6835914 ,  1.60467294,\n",
       "        1.54560901,  1.55236993,  1.54838268,  1.54268   ,  1.55823854,\n",
       "        1.46954324,  1.49093115,  1.55384255,  1.53042795,  1.48065729,\n",
       "        1.47033526,  1.5103958 ,  1.54029772,  1.53864913,  1.56010727,\n",
       "        1.55358934,  1.60726942,  1.67715271,  1.70089866,  1.73062947,\n",
       "        1.74349084,  1.80454588,  1.86406974])"
      ]
     },
     "execution_count": 53,
     "metadata": {},
     "output_type": "execute_result"
    }
   ],
   "source": [
    "sample_1_selected_row_1_lidar = sample_1_selected_row_1['lidar'][35621]\n",
    "sample_1_selected_row_1_lidar\n",
    "sample_2_selected_row_2_lidar = sample_1_selected_row_2['lidar'][35618]\n",
    "sample_2_selected_row_2_lidar"
   ]
  },
  {
   "cell_type": "code",
   "execution_count": 54,
   "metadata": {},
   "outputs": [
    {
     "name": "stderr",
     "output_type": "stream",
     "text": [
      "/tmp/ipykernel_7629/3540318241.py:48: MatplotlibDeprecationWarning: Passing the emit parameter of set_ylim() positionally is deprecated since Matplotlib 3.6; the parameter will become keyword-only two minor releases later.\n",
      "  ax.set_ylim(-3.5, 3,5)\n"
     ]
    },
    {
     "data": {
      "image/png": "[encoded data removed]",
      "text/plain": [
       "<Figure size 500x500 with 1 Axes>"
      ]
     },
     "metadata": {},
     "output_type": "display_data"
    }
   ],
   "source": [
    "sample_1_graph = vis_lidar(sample_1_selected_row_1_lidar, ax=None)\n",
    "sample_1_graph = vis_lidar(sample_2_selected_row_2_lidar, ax=sample_1_graph)"
   ]
  },
  {
   "cell_type": "code",
   "execution_count": 76,
   "metadata": {},
   "outputs": [],
   "source": [
    "def get_pt_from_steer_angle_and_plot_as_vector(steer_angle, ax=None, color='r', rot=False):\n",
    "    x = 0.0\n",
    "    y = 0.0\n",
    "\n",
    "    x = np.cos(steer_angle)\n",
    "    y = np.sin(steer_angle)\n",
    "\n",
    "    if ax is None:\n",
    "        fig, ax = plt.subplots(figsize=(5,5))\n",
    "        ax.set_xlim(-1, 1)\n",
    "        ax.set_ylim(-1, 1)\n",
    "        ax.set_aspect('equal')\n",
    "    \n",
    "    if rot:\n",
    "        ax.quiver(-y, -x, angles='xy', scale_units='xy', scale=0.65, color=color)\n",
    "    else:\n",
    "        ax.quiver(-x, -y, angles='xy', scale_units='xy', scale=1, color=color)\n",
    "    return ax"
   ]
  },
  {
   "cell_type": "code",
   "execution_count": 64,
   "metadata": {},
   "outputs": [
    {
     "data": {
      "text/plain": [
       "<AxesSubplot: >"
      ]
     },
     "execution_count": 64,
     "metadata": {},
     "output_type": "execute_result"
    },
    {
     "data": {
      "image/png": "[encoded data removed]",
      "text/plain": [
       "<Figure size 500x500 with 1 Axes>"
      ]
     },
     "metadata": {},
     "output_type": "display_data"
    }
   ],
   "source": [
    "get_pt_from_steer_angle_and_plot_as_vector(sample_1_selected_row_1['action_steer'][35621], ax=None)"
   ]
  },
  {
   "cell_type": "code",
   "execution_count": 65,
   "metadata": {},
   "outputs": [],
   "source": [
    "def plot_scan_and_vectors(scan, pt1_red, pt2_green, ax=None, rot=False):\n",
    "    ax = vis_lidar(scan, ax=ax, rot=rot)\n",
    "    ax = get_pt_from_steer_angle_and_plot_as_vector(pt1_red, ax=ax, color='r', rot=rot)\n",
    "    ax = get_pt_from_steer_angle_and_plot_as_vector(pt2_green, ax=ax, color='g', rot=rot)\n",
    "    return ax"
   ]
  },
  {
   "cell_type": "code",
   "execution_count": 66,
   "metadata": {},
   "outputs": [
    {
     "name": "stderr",
     "output_type": "stream",
     "text": [
      "/tmp/ipykernel_7629/3540318241.py:48: MatplotlibDeprecationWarning: Passing the emit parameter of set_ylim() positionally is deprecated since Matplotlib 3.6; the parameter will become keyword-only two minor releases later.\n",
      "  ax.set_ylim(-3.5, 3,5)\n"
     ]
    },
    {
     "data": {
      "text/plain": [
       "<AxesSubplot: >"
      ]
     },
     "execution_count": 66,
     "metadata": {},
     "output_type": "execute_result"
    },
    {
     "data": {
      "image/png": "[encoded data removed]",
      "text/plain": [
       "<Figure size 500x500 with 1 Axes>"
      ]
     },
     "metadata": {},
     "output_type": "display_data"
    }
   ],
   "source": [
    "plot_scan_and_vectors(sample_1_selected_row_1_lidar, sample_1_selected_row_1['action_steer'][35621], sample_1_selected_row_2['action_steer'][35618])"
   ]
  },
  {
   "cell_type": "code",
   "execution_count": 67,
   "metadata": {},
   "outputs": [
    {
     "data": {
      "text/html": [
       "<div>\n",
       "<style scoped>\n",
       "    .dataframe tbody tr th:only-of-type {\n",
       "        vertical-align: middle;\n",
       "    }\n",
       "\n",
       "    .dataframe tbody tr th {\n",
       "        vertical-align: top;\n",
       "    }\n",
       "\n",
       "    .dataframe thead th {\n",
       "        text-align: right;\n",
       "    }\n",
       "</style>\n",
       "<table border=\"1\" class=\"dataframe\">\n",
       "  <thead>\n",
       "    <tr style=\"text-align: right;\">\n",
       "      <th></th>\n",
       "      <th>conflict_idx</th>\n",
       "      <th>lidar</th>\n",
       "      <th>action_steer</th>\n",
       "      <th>action_speed</th>\n",
       "    </tr>\n",
       "  </thead>\n",
       "  <tbody>\n",
       "    <tr>\n",
       "      <th>25504</th>\n",
       "      <td>4274</td>\n",
       "      <td>[2.93540902, 2.7944832, 2.71234297, 2.68404524...</td>\n",
       "      <td>1.515918</td>\n",
       "      <td>6.862254</td>\n",
       "    </tr>\n",
       "    <tr>\n",
       "      <th>25505</th>\n",
       "      <td>4274</td>\n",
       "      <td>[2.88603138, 2.81987164, 2.74682491, 2.7238649...</td>\n",
       "      <td>0.033607</td>\n",
       "      <td>8.000000</td>\n",
       "    </tr>\n",
       "    <tr>\n",
       "      <th>25506</th>\n",
       "      <td>4274</td>\n",
       "      <td>[2.86524177, 2.85837241, 2.75614632, 2.7065212...</td>\n",
       "      <td>0.033607</td>\n",
       "      <td>8.000000</td>\n",
       "    </tr>\n",
       "    <tr>\n",
       "      <th>25507</th>\n",
       "      <td>4274</td>\n",
       "      <td>[2.93653515, 2.85256687, 2.75106953, 2.7230271...</td>\n",
       "      <td>0.033607</td>\n",
       "      <td>8.000000</td>\n",
       "    </tr>\n",
       "  </tbody>\n",
       "</table>\n",
       "</div>"
      ],
      "text/plain": [
       "       conflict_idx                                              lidar  \\\n",
       "25504          4274  [2.93540902, 2.7944832, 2.71234297, 2.68404524...   \n",
       "25505          4274  [2.88603138, 2.81987164, 2.74682491, 2.7238649...   \n",
       "25506          4274  [2.86524177, 2.85837241, 2.75614632, 2.7065212...   \n",
       "25507          4274  [2.93653515, 2.85256687, 2.75106953, 2.7230271...   \n",
       "\n",
       "       action_steer  action_speed  \n",
       "25504      1.515918      6.862254  \n",
       "25505      0.033607      8.000000  \n",
       "25506      0.033607      8.000000  \n",
       "25507      0.033607      8.000000  "
      ]
     },
     "execution_count": 67,
     "metadata": {},
     "output_type": "execute_result"
    }
   ],
   "source": [
    "sample_5"
   ]
  },
  {
   "cell_type": "code",
   "execution_count": 81,
   "metadata": {},
   "outputs": [
    {
     "name": "stderr",
     "output_type": "stream",
     "text": [
      "/tmp/ipykernel_7629/3540318241.py:48: MatplotlibDeprecationWarning: Passing the emit parameter of set_ylim() positionally is deprecated since Matplotlib 3.6; the parameter will become keyword-only two minor releases later.\n",
      "  ax.set_ylim(-3.5, 3,5)\n"
     ]
    },
    {
     "data": {
      "image/png": "[encoded data removed]",
      "text/plain": [
       "<Figure size 1000x690 with 4 Axes>"
      ]
     },
     "metadata": {},
     "output_type": "display_data"
    }
   ],
   "source": [
    "# Make 4 subplot and plot the 4 samples\n",
    "fig, axarr = plt.subplots(2, 2, figsize=(10,6.9))\n",
    "#axarr[0, 0].set_title('Sample 1')\n",
    "axarr[0, 0] = plot_scan_and_vectors(sample_1['lidar'][35618], sample_1['action_steer'][35621], sample_1['action_steer'][35618], ax=axarr[0, 0])\n",
    "#axarr[0, 1].set_title('Sample 2')\n",
    "axarr[0, 1] = plot_scan_and_vectors(sample_2['lidar'][123324], sample_2['action_steer'][123325], sample_2['action_steer'][123324], ax=axarr[0, 1])\n",
    "#axarr[1, 0].set_title('Sample 3')\n",
    "axarr[1, 0] = plot_scan_and_vectors(sample_4['lidar'][86045], sample_4['action_steer'][86042], sample_4['action_steer'][86045], ax=axarr[1, 0])\n",
    "#axarr[1, 1].set_title('Sample 4')\n",
    "axarr[1, 1] = plot_scan_and_vectors(sample_5['lidar'][25504], sample_5['action_steer'][25504], sample_5['action_steer'][25507], ax=axarr[1, 1], rot=True)\n",
    "\n",
    "# hide axes ticks in all sub plots\n",
    "axarr[0, 0].xaxis.set_visible(False)\n",
    "axarr[0, 0].yaxis.set_visible(False)\n",
    "axarr[1, 1].xaxis.set_visible(False)\n",
    "axarr[1, 1].yaxis.set_visible(False)\n",
    "axarr[1, 0].xaxis.set_visible(False)\n",
    "axarr[1, 0].yaxis.set_visible(False)\n",
    "axarr[0, 1].xaxis.set_visible(False)\n",
    "axarr[0, 1].yaxis.set_visible(False)\n",
    "\n",
    "plt.subplots_adjust(wspace=0, hspace=0)\n"
   ]
  },
  {
   "attachments": {},
   "cell_type": "markdown",
   "metadata": {},
   "source": [
    "# Comparison after fixing number of samples"
   ]
  },
  {
   "cell_type": "code",
   "execution_count": 2,
   "metadata": {},
   "outputs": [],
   "source": [
    "cbf_filtered_01 = pd.read_csv('fixed_training_ds_length_comp/0.1_cbf_filtered.csv')\n",
    "random_truncated_01 = pd.read_csv('fixed_training_ds_length_comp/0.1_random_truncate.csv')\n",
    "\n",
    "cbf_filtered_02 = pd.read_csv('fixed_training_ds_length_comp/0.2_cbf_filtered.csv')\n",
    "random_truncated_02 = pd.read_csv('fixed_training_ds_length_comp/0.2_random_truncate.csv')\n",
    "\n",
    "cbf_filtered_03 = pd.read_csv('fixed_training_ds_length_comp/0.3_cbf_filtered.csv')\n",
    "random_truncated_03 = pd.read_csv('fixed_training_ds_length_comp/0.3_random_truncate.csv')\n",
    "\n",
    "cbf_filtered_04 = pd.read_csv('fixed_training_ds_length_comp/0.4_cbf_filtered.csv')\n",
    "random_truncated_04 = pd.read_csv('fixed_training_ds_length_comp/0.4_random_truncate.csv')\n",
    "\n",
    "cbf_filtered_05 = pd.read_csv('fixed_training_ds_length_comp/0.5_cbf_filtered.csv')\n",
    "random_truncated_05 = pd.read_csv('fixed_training_ds_length_comp/0.5_random_truncate.csv')\n",
    "\n",
    "cbf_filtered_06 = pd.read_csv('fixed_training_ds_length_comp/0.6_cbf_filtered.csv')\n",
    "random_truncated_06 = pd.read_csv('fixed_training_ds_length_comp/0.6_random_truncate.csv')\n",
    "\n",
    "cbf_filtered_07 = pd.read_csv('fixed_training_ds_length_comp/0.7_cbf_filtered.csv')\n",
    "random_truncated_07 = pd.read_csv('fixed_training_ds_length_comp/0.7_random_truncate.csv')\n",
    "\n",
    "cbf_filtered_08 = pd.read_csv('fixed_training_ds_length_comp/0.8_cbf_filtered.csv')\n",
    "random_truncated_08 = pd.read_csv('fixed_training_ds_length_comp/0.8_random_truncate.csv')\n",
    "\n",
    "cbf_filtered_09 = pd.read_csv('fixed_training_ds_length_comp/0.9_cbf_filtered.csv')\n",
    "random_truncated_09 = pd.read_csv('fixed_training_ds_length_comp/0.9_random_truncate.csv')\n",
    "\n",
    "cbf_filtered_10 = pd.read_csv('fixed_training_ds_length_comp/1.0_cbf_filtered.csv')\n",
    "random_truncated_10 = pd.read_csv('fixed_training_ds_length_comp/1.0_random_truncate.csv')"
   ]
  },
  {
   "cell_type": "code",
   "execution_count": 3,
   "metadata": {},
   "outputs": [],
   "source": [
    "cbf_filtered_01[\"undesired_overtaking_behavior_prob\"] = 0.1\n",
    "cbf_filtered_02[\"undesired_overtaking_behavior_prob\"] = 0.2\n",
    "cbf_filtered_03[\"undesired_overtaking_behavior_prob\"] = 0.3\n",
    "cbf_filtered_04[\"undesired_overtaking_behavior_prob\"] = 0.4\n",
    "cbf_filtered_05[\"undesired_overtaking_behavior_prob\"] = 0.5\n",
    "cbf_filtered_06[\"undesired_overtaking_behavior_prob\"] = 0.6\n",
    "cbf_filtered_07[\"undesired_overtaking_behavior_prob\"] = 0.7\n",
    "cbf_filtered_08[\"undesired_overtaking_behavior_prob\"] = 0.8\n",
    "cbf_filtered_09[\"undesired_overtaking_behavior_prob\"] = 0.9\n",
    "cbf_filtered_10[\"undesired_overtaking_behavior_prob\"] = 1.0\n",
    "\n",
    "random_truncated_01[\"undesired_overtaking_behavior_prob\"] = 0.1\n",
    "random_truncated_02[\"undesired_overtaking_behavior_prob\"] = 0.2\n",
    "random_truncated_03[\"undesired_overtaking_behavior_prob\"] = 0.3\n",
    "random_truncated_04[\"undesired_overtaking_behavior_prob\"] = 0.4\n",
    "random_truncated_05[\"undesired_overtaking_behavior_prob\"] = 0.5\n",
    "random_truncated_06[\"undesired_overtaking_behavior_prob\"] = 0.6\n",
    "random_truncated_07[\"undesired_overtaking_behavior_prob\"] = 0.7\n",
    "random_truncated_08[\"undesired_overtaking_behavior_prob\"] = 0.8\n",
    "random_truncated_09[\"undesired_overtaking_behavior_prob\"] = 0.9\n",
    "random_truncated_10[\"undesired_overtaking_behavior_prob\"] = 1.0\n"
   ]
  },
  {
   "cell_type": "code",
   "execution_count": 10,
   "metadata": {},
   "outputs": [],
   "source": [
    "cbf_filtered_01['method'] = 'Unsafe data filter'\n",
    "cbf_filtered_02['method'] = 'Unsafe data filter'\n",
    "cbf_filtered_03['method'] = 'Unsafe data filter'\n",
    "cbf_filtered_04['method'] = 'Unsafe data filter'\n",
    "cbf_filtered_05['method'] = 'Unsafe data filter'\n",
    "cbf_filtered_06['method'] = 'Unsafe data filter'\n",
    "cbf_filtered_07['method'] = 'Unsafe data filter'\n",
    "cbf_filtered_08['method'] = 'Unsafe data filter'\n",
    "cbf_filtered_09['method'] = 'Unsafe data filter'\n",
    "cbf_filtered_10['method'] = 'Unsafe data filter'\n",
    "\n",
    "random_truncated_01['method'] = 'Random truncation'\n",
    "random_truncated_02['method'] = 'Random truncation'\n",
    "random_truncated_03['method'] = 'Random truncation'\n",
    "random_truncated_04['method'] = 'Random truncation'\n",
    "random_truncated_05['method'] = 'Random truncation'\n",
    "random_truncated_06['method'] = 'Random truncation'\n",
    "random_truncated_07['method'] = 'Random truncation'\n",
    "random_truncated_08['method'] = 'Random truncation'\n",
    "random_truncated_09['method'] = 'Random truncation'\n",
    "random_truncated_10['method'] = 'Random truncation'"
   ]
  },
  {
   "cell_type": "code",
   "execution_count": 11,
   "metadata": {},
   "outputs": [
    {
     "data": {
      "text/html": [
       "<div>\n",
       "<style scoped>\n",
       "    .dataframe tbody tr th:only-of-type {\n",
       "        vertical-align: middle;\n",
       "    }\n",
       "\n",
       "    .dataframe tbody tr th {\n",
       "        vertical-align: top;\n",
       "    }\n",
       "\n",
       "    .dataframe thead th {\n",
       "        text-align: right;\n",
       "    }\n",
       "</style>\n",
       "<table border=\"1\" class=\"dataframe\">\n",
       "  <thead>\n",
       "    <tr style=\"text-align: right;\">\n",
       "      <th></th>\n",
       "      <th>model_idx</th>\n",
       "      <th>avg_collision_rate</th>\n",
       "      <th>avg_overtake_rate</th>\n",
       "      <th>undesired_overtaking_behavior_prob</th>\n",
       "      <th>method</th>\n",
       "    </tr>\n",
       "  </thead>\n",
       "  <tbody>\n",
       "    <tr>\n",
       "      <th>0</th>\n",
       "      <td>100</td>\n",
       "      <td>0.64</td>\n",
       "      <td>0.32</td>\n",
       "      <td>0.1</td>\n",
       "      <td>Unsafe data filter</td>\n",
       "    </tr>\n",
       "    <tr>\n",
       "      <th>1</th>\n",
       "      <td>200</td>\n",
       "      <td>0.57</td>\n",
       "      <td>0.43</td>\n",
       "      <td>0.1</td>\n",
       "      <td>Unsafe data filter</td>\n",
       "    </tr>\n",
       "    <tr>\n",
       "      <th>2</th>\n",
       "      <td>300</td>\n",
       "      <td>0.53</td>\n",
       "      <td>0.47</td>\n",
       "      <td>0.1</td>\n",
       "      <td>Unsafe data filter</td>\n",
       "    </tr>\n",
       "    <tr>\n",
       "      <th>3</th>\n",
       "      <td>400</td>\n",
       "      <td>0.58</td>\n",
       "      <td>0.37</td>\n",
       "      <td>0.1</td>\n",
       "      <td>Unsafe data filter</td>\n",
       "    </tr>\n",
       "    <tr>\n",
       "      <th>4</th>\n",
       "      <td>500</td>\n",
       "      <td>0.63</td>\n",
       "      <td>0.37</td>\n",
       "      <td>0.1</td>\n",
       "      <td>Unsafe data filter</td>\n",
       "    </tr>\n",
       "    <tr>\n",
       "      <th>...</th>\n",
       "      <td>...</td>\n",
       "      <td>...</td>\n",
       "      <td>...</td>\n",
       "      <td>...</td>\n",
       "      <td>...</td>\n",
       "    </tr>\n",
       "    <tr>\n",
       "      <th>5</th>\n",
       "      <td>600</td>\n",
       "      <td>0.97</td>\n",
       "      <td>0.00</td>\n",
       "      <td>1.0</td>\n",
       "      <td>Random truncation</td>\n",
       "    </tr>\n",
       "    <tr>\n",
       "      <th>6</th>\n",
       "      <td>700</td>\n",
       "      <td>0.95</td>\n",
       "      <td>0.00</td>\n",
       "      <td>1.0</td>\n",
       "      <td>Random truncation</td>\n",
       "    </tr>\n",
       "    <tr>\n",
       "      <th>7</th>\n",
       "      <td>800</td>\n",
       "      <td>0.98</td>\n",
       "      <td>0.00</td>\n",
       "      <td>1.0</td>\n",
       "      <td>Random truncation</td>\n",
       "    </tr>\n",
       "    <tr>\n",
       "      <th>8</th>\n",
       "      <td>900</td>\n",
       "      <td>0.97</td>\n",
       "      <td>0.00</td>\n",
       "      <td>1.0</td>\n",
       "      <td>Random truncation</td>\n",
       "    </tr>\n",
       "    <tr>\n",
       "      <th>9</th>\n",
       "      <td>1000</td>\n",
       "      <td>0.98</td>\n",
       "      <td>0.01</td>\n",
       "      <td>1.0</td>\n",
       "      <td>Random truncation</td>\n",
       "    </tr>\n",
       "  </tbody>\n",
       "</table>\n",
       "<p>199 rows × 5 columns</p>\n",
       "</div>"
      ],
      "text/plain": [
       "    model_idx  avg_collision_rate  avg_overtake_rate  \\\n",
       "0         100                0.64               0.32   \n",
       "1         200                0.57               0.43   \n",
       "2         300                0.53               0.47   \n",
       "3         400                0.58               0.37   \n",
       "4         500                0.63               0.37   \n",
       "..        ...                 ...                ...   \n",
       "5         600                0.97               0.00   \n",
       "6         700                0.95               0.00   \n",
       "7         800                0.98               0.00   \n",
       "8         900                0.97               0.00   \n",
       "9        1000                0.98               0.01   \n",
       "\n",
       "    undesired_overtaking_behavior_prob              method  \n",
       "0                                  0.1  Unsafe data filter  \n",
       "1                                  0.1  Unsafe data filter  \n",
       "2                                  0.1  Unsafe data filter  \n",
       "3                                  0.1  Unsafe data filter  \n",
       "4                                  0.1  Unsafe data filter  \n",
       "..                                 ...                 ...  \n",
       "5                                  1.0   Random truncation  \n",
       "6                                  1.0   Random truncation  \n",
       "7                                  1.0   Random truncation  \n",
       "8                                  1.0   Random truncation  \n",
       "9                                  1.0   Random truncation  \n",
       "\n",
       "[199 rows x 5 columns]"
      ]
     },
     "execution_count": 11,
     "metadata": {},
     "output_type": "execute_result"
    }
   ],
   "source": [
    "concat_df = pd.concat([cbf_filtered_01, cbf_filtered_02, cbf_filtered_03, cbf_filtered_04, cbf_filtered_05, cbf_filtered_06, cbf_filtered_07, cbf_filtered_08, cbf_filtered_09, cbf_filtered_10, random_truncated_01, random_truncated_02, random_truncated_03, random_truncated_04, random_truncated_05, random_truncated_06, random_truncated_07, random_truncated_08, random_truncated_09, random_truncated_10])\n",
    "concat_df"
   ]
  },
  {
   "cell_type": "code",
   "execution_count": 12,
   "metadata": {},
   "outputs": [
    {
     "data": {
      "text/html": [
       "<div>\n",
       "<style scoped>\n",
       "    .dataframe tbody tr th:only-of-type {\n",
       "        vertical-align: middle;\n",
       "    }\n",
       "\n",
       "    .dataframe tbody tr th {\n",
       "        vertical-align: top;\n",
       "    }\n",
       "\n",
       "    .dataframe thead th {\n",
       "        text-align: right;\n",
       "    }\n",
       "</style>\n",
       "<table border=\"1\" class=\"dataframe\">\n",
       "  <thead>\n",
       "    <tr style=\"text-align: right;\">\n",
       "      <th></th>\n",
       "      <th>model_idx</th>\n",
       "      <th>avg_collision_rate</th>\n",
       "      <th>avg_overtake_rate</th>\n",
       "      <th>undesired_overtaking_behavior_prob</th>\n",
       "      <th>method</th>\n",
       "    </tr>\n",
       "  </thead>\n",
       "  <tbody>\n",
       "    <tr>\n",
       "      <th>9</th>\n",
       "      <td>1000</td>\n",
       "      <td>0.43</td>\n",
       "      <td>0.57</td>\n",
       "      <td>0.1</td>\n",
       "      <td>Unsafe data filter</td>\n",
       "    </tr>\n",
       "    <tr>\n",
       "      <th>9</th>\n",
       "      <td>1000</td>\n",
       "      <td>0.45</td>\n",
       "      <td>0.55</td>\n",
       "      <td>0.2</td>\n",
       "      <td>Unsafe data filter</td>\n",
       "    </tr>\n",
       "    <tr>\n",
       "      <th>9</th>\n",
       "      <td>1000</td>\n",
       "      <td>0.48</td>\n",
       "      <td>0.52</td>\n",
       "      <td>0.3</td>\n",
       "      <td>Unsafe data filter</td>\n",
       "    </tr>\n",
       "    <tr>\n",
       "      <th>9</th>\n",
       "      <td>1000</td>\n",
       "      <td>0.53</td>\n",
       "      <td>0.47</td>\n",
       "      <td>0.4</td>\n",
       "      <td>Unsafe data filter</td>\n",
       "    </tr>\n",
       "    <tr>\n",
       "      <th>9</th>\n",
       "      <td>1000</td>\n",
       "      <td>0.57</td>\n",
       "      <td>0.43</td>\n",
       "      <td>0.5</td>\n",
       "      <td>Unsafe data filter</td>\n",
       "    </tr>\n",
       "    <tr>\n",
       "      <th>9</th>\n",
       "      <td>1000</td>\n",
       "      <td>0.58</td>\n",
       "      <td>0.42</td>\n",
       "      <td>0.6</td>\n",
       "      <td>Unsafe data filter</td>\n",
       "    </tr>\n",
       "    <tr>\n",
       "      <th>9</th>\n",
       "      <td>1000</td>\n",
       "      <td>0.59</td>\n",
       "      <td>0.41</td>\n",
       "      <td>0.7</td>\n",
       "      <td>Unsafe data filter</td>\n",
       "    </tr>\n",
       "    <tr>\n",
       "      <th>9</th>\n",
       "      <td>1000</td>\n",
       "      <td>0.58</td>\n",
       "      <td>0.42</td>\n",
       "      <td>0.8</td>\n",
       "      <td>Unsafe data filter</td>\n",
       "    </tr>\n",
       "    <tr>\n",
       "      <th>8</th>\n",
       "      <td>1000</td>\n",
       "      <td>0.68</td>\n",
       "      <td>0.32</td>\n",
       "      <td>0.9</td>\n",
       "      <td>Unsafe data filter</td>\n",
       "    </tr>\n",
       "    <tr>\n",
       "      <th>9</th>\n",
       "      <td>1000</td>\n",
       "      <td>0.71</td>\n",
       "      <td>0.29</td>\n",
       "      <td>1.0</td>\n",
       "      <td>Unsafe data filter</td>\n",
       "    </tr>\n",
       "    <tr>\n",
       "      <th>9</th>\n",
       "      <td>1000</td>\n",
       "      <td>0.78</td>\n",
       "      <td>0.22</td>\n",
       "      <td>0.1</td>\n",
       "      <td>Random truncation</td>\n",
       "    </tr>\n",
       "    <tr>\n",
       "      <th>9</th>\n",
       "      <td>1000</td>\n",
       "      <td>0.83</td>\n",
       "      <td>0.17</td>\n",
       "      <td>0.2</td>\n",
       "      <td>Random truncation</td>\n",
       "    </tr>\n",
       "    <tr>\n",
       "      <th>9</th>\n",
       "      <td>1000</td>\n",
       "      <td>0.90</td>\n",
       "      <td>0.10</td>\n",
       "      <td>0.3</td>\n",
       "      <td>Random truncation</td>\n",
       "    </tr>\n",
       "    <tr>\n",
       "      <th>9</th>\n",
       "      <td>1000</td>\n",
       "      <td>0.91</td>\n",
       "      <td>0.08</td>\n",
       "      <td>0.4</td>\n",
       "      <td>Random truncation</td>\n",
       "    </tr>\n",
       "    <tr>\n",
       "      <th>9</th>\n",
       "      <td>1000</td>\n",
       "      <td>0.92</td>\n",
       "      <td>0.08</td>\n",
       "      <td>0.5</td>\n",
       "      <td>Random truncation</td>\n",
       "    </tr>\n",
       "    <tr>\n",
       "      <th>9</th>\n",
       "      <td>1000</td>\n",
       "      <td>0.94</td>\n",
       "      <td>0.05</td>\n",
       "      <td>0.6</td>\n",
       "      <td>Random truncation</td>\n",
       "    </tr>\n",
       "    <tr>\n",
       "      <th>9</th>\n",
       "      <td>1000</td>\n",
       "      <td>0.98</td>\n",
       "      <td>0.01</td>\n",
       "      <td>0.7</td>\n",
       "      <td>Random truncation</td>\n",
       "    </tr>\n",
       "    <tr>\n",
       "      <th>9</th>\n",
       "      <td>1000</td>\n",
       "      <td>0.97</td>\n",
       "      <td>0.01</td>\n",
       "      <td>0.8</td>\n",
       "      <td>Random truncation</td>\n",
       "    </tr>\n",
       "    <tr>\n",
       "      <th>9</th>\n",
       "      <td>1000</td>\n",
       "      <td>0.98</td>\n",
       "      <td>0.02</td>\n",
       "      <td>0.9</td>\n",
       "      <td>Random truncation</td>\n",
       "    </tr>\n",
       "    <tr>\n",
       "      <th>9</th>\n",
       "      <td>1000</td>\n",
       "      <td>0.98</td>\n",
       "      <td>0.01</td>\n",
       "      <td>1.0</td>\n",
       "      <td>Random truncation</td>\n",
       "    </tr>\n",
       "  </tbody>\n",
       "</table>\n",
       "</div>"
      ],
      "text/plain": [
       "   model_idx  avg_collision_rate  avg_overtake_rate  \\\n",
       "9       1000                0.43               0.57   \n",
       "9       1000                0.45               0.55   \n",
       "9       1000                0.48               0.52   \n",
       "9       1000                0.53               0.47   \n",
       "9       1000                0.57               0.43   \n",
       "9       1000                0.58               0.42   \n",
       "9       1000                0.59               0.41   \n",
       "9       1000                0.58               0.42   \n",
       "8       1000                0.68               0.32   \n",
       "9       1000                0.71               0.29   \n",
       "9       1000                0.78               0.22   \n",
       "9       1000                0.83               0.17   \n",
       "9       1000                0.90               0.10   \n",
       "9       1000                0.91               0.08   \n",
       "9       1000                0.92               0.08   \n",
       "9       1000                0.94               0.05   \n",
       "9       1000                0.98               0.01   \n",
       "9       1000                0.97               0.01   \n",
       "9       1000                0.98               0.02   \n",
       "9       1000                0.98               0.01   \n",
       "\n",
       "   undesired_overtaking_behavior_prob              method  \n",
       "9                                 0.1  Unsafe data filter  \n",
       "9                                 0.2  Unsafe data filter  \n",
       "9                                 0.3  Unsafe data filter  \n",
       "9                                 0.4  Unsafe data filter  \n",
       "9                                 0.5  Unsafe data filter  \n",
       "9                                 0.6  Unsafe data filter  \n",
       "9                                 0.7  Unsafe data filter  \n",
       "9                                 0.8  Unsafe data filter  \n",
       "8                                 0.9  Unsafe data filter  \n",
       "9                                 1.0  Unsafe data filter  \n",
       "9                                 0.1   Random truncation  \n",
       "9                                 0.2   Random truncation  \n",
       "9                                 0.3   Random truncation  \n",
       "9                                 0.4   Random truncation  \n",
       "9                                 0.5   Random truncation  \n",
       "9                                 0.6   Random truncation  \n",
       "9                                 0.7   Random truncation  \n",
       "9                                 0.8   Random truncation  \n",
       "9                                 0.9   Random truncation  \n",
       "9                                 1.0   Random truncation  "
      ]
     },
     "execution_count": 12,
     "metadata": {},
     "output_type": "execute_result"
    }
   ],
   "source": [
    "comp_1000_steps_df = concat_df[concat_df[\"model_idx\"] == 1000]\n",
    "comp_1000_steps_df"
   ]
  },
  {
   "cell_type": "code",
   "execution_count": 13,
   "metadata": {},
   "outputs": [
    {
     "data": {
      "text/plain": [
       "<AxesSubplot: xlabel='undesired_overtaking_behavior_prob', ylabel='avg_overtake_rate'>"
      ]
     },
     "execution_count": 13,
     "metadata": {},
     "output_type": "execute_result"
    },
    {
     "data": {
      "image/png": "[encoded data removed]",
      "text/plain": [
       "<Figure size 640x480 with 1 Axes>"
      ]
     },
     "metadata": {},
     "output_type": "display_data"
    }
   ],
   "source": [
    "sns.lineplot(data=comp_1000_steps_df, x=\"undesired_overtaking_behavior_prob\", y=\"avg_overtake_rate\", hue=\"method\")"
   ]
  },
  {
   "cell_type": "code",
   "execution_count": 14,
   "metadata": {},
   "outputs": [
    {
     "data": {
      "text/plain": [
       "<AxesSubplot: xlabel='undesired_overtaking_behavior_prob', ylabel='avg_collision_rate'>"
      ]
     },
     "execution_count": 14,
     "metadata": {},
     "output_type": "execute_result"
    },
    {
     "data": {
      "image/png": "[encoded data removed]",
      "text/plain": [
       "<Figure size 640x480 with 1 Axes>"
      ]
     },
     "metadata": {},
     "output_type": "display_data"
    }
   ],
   "source": [
    "sns.lineplot(data=comp_1000_steps_df, x=\"undesired_overtaking_behavior_prob\", y=\"avg_collision_rate\", hue=\"method\")"
   ]
  },
  {
   "cell_type": "code",
   "execution_count": 17,
   "metadata": {},
   "outputs": [
    {
     "data": {
      "image/png": "[encoded data removed]",
      "text/plain": [
       "<Figure size 900x700 with 2 Axes>"
      ]
     },
     "metadata": {},
     "output_type": "display_data"
    }
   ],
   "source": [
    "fig2, axarr2 = plt.subplots(2, 1, figsize=(9, 7))\n",
    "a = sns.barplot(data=comp_1000_steps_df, x=\"undesired_overtaking_behavior_prob\", y=\"avg_overtake_rate\", hue=\"method\", palette= [\"#5EA69C\", \"#CD4432\"], ax=axarr2[0])\n",
    "a.set_xlabel('Expert Undesired Overtaking Behavior Rate')\n",
    "a.set_ylabel('Percentage of Overtakes')\n",
    "\n",
    "a_legend = a.get_legend()\n",
    "a_legend.set_title('')\n",
    "#a.legend(['', ''])\n",
    "a.set_xticklabels(['0.29', '0.2', '0.3', '0.4', '0.5', '0.6', '0.7', '0.8', '0.9', '1.0'])\n",
    "\n",
    "b = sns.barplot(data=comp_1000_steps_df, x=\"undesired_overtaking_behavior_prob\", y=\"avg_collision_rate\", hue=\"method\", palette= [\"#5EA69C\", \"#CD4432\"], ax=axarr2[1])\n",
    "b.set_xlabel('Expert Undesired Overtaking Behavior Rate')\n",
    "b.set_ylabel('Percentage of Collisions')\n",
    "b.get_legend().remove()"
   ]
  },
  {
   "cell_type": "code",
   "execution_count": null,
   "metadata": {},
   "outputs": [],
   "source": []
  }
 ],
 "metadata": {
  "kernelspec": {
   "display_name": "sr_venv",
   "language": "python",
   "name": "python3"
  },
  "language_info": {
   "codemirror_mode": {
    "name": "ipython",
    "version": 3
   },
   "file_extension": ".py",
   "mimetype": "text/x-python",
   "name": "python",
   "nbconvert_exporter": "python",
   "pygments_lexer": "ipython3",
   "version": "3.8.10"
  },
  "orig_nbformat": 4,
  "vscode": {
   "interpreter": {
    "hash": "00d2aca437632f20c463fbd5e89baf3ecd5442bb4d00ed06f4a15381b2a752b4"
   }
  }
 },
 "nbformat": 4,
 "nbformat_minor": 2
}
