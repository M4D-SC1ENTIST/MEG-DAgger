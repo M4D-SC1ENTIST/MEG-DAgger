{
 "cells": [
  {
   "cell_type": "code",
   "execution_count": null,
   "outputs": [],
   "source": [
    "import numpy as np\n",
    "import os\n",
    "import matplotlib.pyplot as plt\n",
    "import seaborn as sns\n",
    "import pandas as pd\n",
    "from scipy import spatial\n",
    "import nevergrad as ng\n",
    "from sklearn.decomposition import PCA\n",
    "import json\n",
    "from es.utils.utils import *\n",
    "from es.utils.visualize import label_point, draw_pts, draw_traj_with_state, get_poses_for_step, get_track_segment\n",
    "from es.utils.DataProcessor import paramsDict2Array, rollout_states\n",
    "from es.planner.lattice_planner import LatticePlanner\n",
    "import yaml\n",
    "from argparse import Namespace\n",
    "# %matplotlib ipympl\n",
    "%matplotlib inline\n",
    "plt.rcParams[\"figure.figsize\"] = (12, 7)"
   ],
   "metadata": {
    "collapsed": false,
    "pycharm": {
     "name": "#%%\n"
    }
   }
  },
  {
   "cell_type": "markdown",
   "source": [
    "\n",
    "# Import Data"
   ],
   "metadata": {
    "collapsed": false,
    "pycharm": {
     "name": "#%% md\n"
    }
   }
  },
  {
   "cell_type": "code",
   "execution_count": null,
   "outputs": [],
   "source": [
    "map_name = 'General1'\n",
    "\n",
    "lattice_planner_conf_path = \\\n",
    "    os.path.join(os.path.abspath('..'), 'configs', map_name, 'lattice_planner_config.yaml')\n",
    "with open(lattice_planner_conf_path) as file:\n",
    "    lp_conf_dict = yaml.load(file, Loader=yaml.FullLoader)\n",
    "lp_conf = Namespace(**lp_conf_dict)\n",
    "ego_planner = LatticePlanner(lp_conf)\n",
    "opp_planner = LatticePlanner(lp_conf)\n",
    "waypoints = ego_planner.waypoints\n",
    "waypoints_xytheta = np.hstack((waypoints[:, :2], waypoints[:, 3].reshape(-1, 1)))"
   ],
   "metadata": {
    "collapsed": false,
    "pycharm": {
     "name": "#%%\n"
    }
   }
  },
  {
   "cell_type": "code",
   "execution_count": null,
   "outputs": [],
   "source": [
    "run = 17\n",
    "ego_id = -1\n",
    "s_idx = 0\n",
    "o_idx = 2\n",
    "\n",
    "data_module = os.path.abspath('../es_model')\n",
    "batch_data_dir = os.path.join(data_module, f'{run}/batch_data/{ego_id}')\n",
    "rollout_data_file = os.path.join(batch_data_dir, f's_{s_idx}_o_{o_idx}.npz')\n",
    "config_file = f'{run}/config.json'\n",
    "config_data = json.load(open(os.path.join(data_module, config_file)))\n",
    "rollout_data = np.load(rollout_data_file, mmap_mode='r')\n",
    "param_dict = config_data['params_dict']\n",
    "param_name_list = config_data['params_name']\n",
    "# print('rollout_states')\n",
    "# print(rollout_states)\n",
    "# print(rollout_data.files)\n",
    "# print('param_dict')\n",
    "# print(param_dict)\n",
    "\n",
    "fig_size = (20,12)\n",
    "font_size = 30\n",
    "length=0.58\n",
    "width=0.31"
   ],
   "metadata": {
    "collapsed": false,
    "pycharm": {
     "name": "#%%\n"
    }
   }
  },
  {
   "cell_type": "code",
   "execution_count": null,
   "outputs": [],
   "source": [
    "states = {}\n",
    "for key in ('ego_x', 'ego_y', 'ego_theta', 'ego_v', 'opp_x', 'opp_y', 'opp_theta', 'opp_v', 'ego_prev_traj', 'ego_prev_opp', 'ego_ittc', 'ego_control_error', 'rollout_ego_s', 'rollout_opp_s'):\n",
    "    states[key] = rollout_data[key]\n",
    "\n",
    "feature = {}\n",
    "for key in ('ego_weights', 'opp_weights', 'objectives'):\n",
    "    feature[key] = rollout_data[key]\n",
    "print(feature['objectives'])"
   ],
   "metadata": {
    "collapsed": false,
    "pycharm": {
     "name": "#%%\n"
    }
   }
  },
  {
   "cell_type": "code",
   "execution_count": null,
   "outputs": [],
   "source": [
    "n = len(states['ego_ittc'])\n",
    "b = 0\n",
    "e = n\n",
    "print(n)"
   ],
   "metadata": {
    "collapsed": false,
    "pycharm": {
     "name": "#%%\n"
    }
   }
  },
  {
   "cell_type": "markdown",
   "source": [
    "\n",
    "# Draw trajectory"
   ],
   "metadata": {
    "collapsed": false,
    "pycharm": {
     "name": "#%% md\n"
    }
   }
  },
  {
   "cell_type": "code",
   "execution_count": null,
   "outputs": [],
   "source": [
    "ego_traj = np.vstack((rollout_data['ego_x'], rollout_data['ego_y']))[:, b:e]\n",
    "opp_traj = np.vstack((rollout_data['opp_x'], rollout_data['opp_y']))[:, b:e]\n",
    "\n",
    "# wp_x = waypoints_xytheta[idx-100:idx+100, 0]\n",
    "# wp_y = waypoints_xytheta[idx-100:idx+100, 1]\n",
    "\n",
    "step = e-1\n",
    "poses = get_poses_for_step(states, step)\n",
    "ego_pose = poses[0]\n",
    "_, _, _, idx = nearest_point(ego_pose[:2], waypoints_xytheta[:, :2])\n",
    "track_x, track_y = get_track_segment(ego_planner, ego_pose, dist_thres=5)\n",
    "\n",
    "fig, ax = plt.subplots(1, 1)\n",
    "ax.plot(track_x, track_y, 'o', c='k', markersize=0.3, label='track')\n",
    "# ax.plot(wp_x, wp_y, c='b', markersize=1.0, label='optimal raceline')\n",
    "\n",
    "for i in range(len(poses)):\n",
    "    car_vertices = get_vertices(poses[i], length, width).T\n",
    "    if i!=0:\n",
    "        ax.plot(poses[i][0], poses[i][1], 'go', markersize=5.0, label='opo_position')\n",
    "        draw_pts(car_vertices, ax, c='g', mksize=5.0, label='opponents', pointonly=True)\n",
    "    else:\n",
    "        ax.plot(poses[i][0], poses[i][1], 'ro', markersize=5.0, label='ego_position')\n",
    "        draw_pts(car_vertices, ax, c='r', mksize=5.0, label='ego', pointonly=True)\n",
    "\n",
    "draw_pts(pts=ego_traj, ax=ax, mksize=1.0, label='ego_traj', c='r')\n",
    "draw_pts(pts=opp_traj, ax=ax, mksize=1.0, label='opp_traj', c='g')\n",
    "# plt.legend()\n",
    "plt.axis('equal')\n",
    "plt.show()"
   ],
   "metadata": {
    "collapsed": false,
    "pycharm": {
     "name": "#%%\n"
    }
   }
  },
  {
   "cell_type": "code",
   "execution_count": null,
   "outputs": [],
   "source": [
    "# Draw features"
   ],
   "metadata": {
    "collapsed": false,
    "pycharm": {
     "name": "#%%\n"
    }
   }
  },
  {
   "cell_type": "code",
   "execution_count": null,
   "outputs": [],
   "source": [
    "feature = 'ego_ittc'\n",
    "fig, ax = plt.subplots(1, 1)\n",
    "ax.plot(states[feature][b:e], label=feature)\n",
    "plt.legend()\n",
    "plt.show()\n",
    "tmp = states[feature]\n",
    "tmp = tmp[tmp>0.0]\n",
    "print(np.nonzero(tmp < 2.0)[0].shape)"
   ],
   "metadata": {
    "collapsed": false,
    "pycharm": {
     "name": "#%%\n"
    }
   }
  },
  {
   "cell_type": "code",
   "execution_count": null,
   "outputs": [],
   "source": [
    "feature = 'ego_v'\n",
    "fig, ax = plt.subplots(1, 1)\n",
    "ax.plot(states[feature][b:e], label=feature)\n",
    "plt.legend()\n",
    "plt.show()\n",
    "print(np.mean(states[feature][b:e]))"
   ],
   "metadata": {
    "collapsed": false,
    "pycharm": {
     "name": "#%%\n"
    }
   }
  },
  {
   "cell_type": "code",
   "execution_count": null,
   "outputs": [],
   "source": [],
   "metadata": {
    "collapsed": false,
    "pycharm": {
     "name": "#%%\n"
    }
   }
  },
  {
   "cell_type": "code",
   "execution_count": null,
   "outputs": [],
   "source": [],
   "metadata": {
    "collapsed": false,
    "pycharm": {
     "name": "#%%\n"
    }
   }
  },
  {
   "cell_type": "code",
   "execution_count": null,
   "outputs": [],
   "source": [],
   "metadata": {
    "collapsed": false,
    "pycharm": {
     "name": "#%%\n"
    }
   }
  },
  {
   "cell_type": "code",
   "execution_count": null,
   "outputs": [],
   "source": [],
   "metadata": {
    "collapsed": false,
    "pycharm": {
     "name": "#%%\n"
    }
   }
  },
  {
   "cell_type": "code",
   "execution_count": null,
   "outputs": [],
   "source": [],
   "metadata": {
    "collapsed": false,
    "pycharm": {
     "name": "#%%\n"
    }
   }
  },
  {
   "cell_type": "code",
   "execution_count": null,
   "outputs": [],
   "source": [
    "feature = 'ego_v'\n",
    "fig, ax = plt.subplots(1, 1)\n",
    "ax.plot(states[feature][b:e], label=feature)\n",
    "plt.legend()\n",
    "plt.show()"
   ],
   "metadata": {
    "collapsed": false,
    "pycharm": {
     "name": "#%%\n"
    }
   }
  },
  {
   "cell_type": "code",
   "execution_count": null,
   "outputs": [],
   "source": [],
   "metadata": {
    "collapsed": false,
    "pycharm": {
     "name": "#%%\n"
    }
   }
  },
  {
   "cell_type": "code",
   "execution_count": null,
   "outputs": [],
   "source": [],
   "metadata": {
    "collapsed": false,
    "pycharm": {
     "name": "#%%\n"
    }
   }
  },
  {
   "cell_type": "code",
   "execution_count": null,
   "outputs": [],
   "source": [],
   "metadata": {
    "collapsed": false,
    "pycharm": {
     "name": "#%%\n"
    }
   }
  },
  {
   "cell_type": "code",
   "execution_count": null,
   "outputs": [],
   "source": [],
   "metadata": {
    "collapsed": false,
    "pycharm": {
     "name": "#%%\n"
    }
   }
  },
  {
   "cell_type": "code",
   "execution_count": null,
   "outputs": [],
   "source": [],
   "metadata": {
    "collapsed": false,
    "pycharm": {
     "name": "#%%\n"
    }
   }
  },
  {
   "cell_type": "code",
   "execution_count": 84,
   "metadata": {
    "pycharm": {
     "name": "#%%\n"
    }
   },
   "outputs": [
    {
     "data": {
      "image/png": "[encoded data removed]",
      "text/plain": [
       "<Figure size 864x504 with 1 Axes>"
      ]
     },
     "metadata": {
      "needs_background": "light"
     },
     "output_type": "display_data"
    },
    {
     "name": "stdout",
     "output_type": "stream",
     "text": [
      "5.220283950617284\n"
     ]
    }
   ],
   "source": [
    "feature = 'ego_v'\n",
    "fig, ax = plt.subplots(1, 1)\n",
    "ax.plot(states[feature][b:e], label=feature)\n",
    "plt.legend()\n",
    "plt.show()\n",
    "print(np.mean(states[feature][b:e]))"
   ]
  },
  {
   "cell_type": "code",
   "execution_count": null,
   "metadata": {
    "pycharm": {
     "name": "#%%\n"
    }
   },
   "outputs": [],
   "source": []
  },
  {
   "cell_type": "code",
   "execution_count": null,
   "metadata": {
    "pycharm": {
     "name": "#%%\n"
    }
   },
   "outputs": [],
   "source": []
  },
  {
   "cell_type": "code",
   "execution_count": null,
   "metadata": {
    "pycharm": {
     "name": "#%%\n"
    }
   },
   "outputs": [],
   "source": []
  },
  {
   "cell_type": "code",
   "execution_count": null,
   "metadata": {
    "pycharm": {
     "name": "#%%\n"
    }
   },
   "outputs": [],
   "source": []
  },
  {
   "cell_type": "code",
   "execution_count": null,
   "metadata": {
    "pycharm": {
     "name": "#%%\n"
    }
   },
   "outputs": [],
   "source": []
  },
  {
   "cell_type": "code",
   "execution_count": 77,
   "metadata": {
    "pycharm": {
     "name": "#%%\n"
    }
   },
   "outputs": [
    {
     "data": {
      "image/png": "[encoded data removed]",
      "text/plain": [
       "<Figure size 864x504 with 1 Axes>"
      ]
     },
     "metadata": {
      "needs_background": "light"
     },
     "output_type": "display_data"
    }
   ],
   "source": [
    "feature = 'ego_v'\n",
    "fig, ax = plt.subplots(1, 1)\n",
    "ax.plot(states[feature][b:e], label=feature)\n",
    "plt.legend()\n",
    "plt.show()"
   ]
  },
  {
   "cell_type": "code",
   "execution_count": null,
   "metadata": {
    "pycharm": {
     "name": "#%%\n"
    }
   },
   "outputs": [],
   "source": []
  },
  {
   "cell_type": "code",
   "execution_count": null,
   "metadata": {
    "pycharm": {
     "name": "#%%\n"
    }
   },
   "outputs": [],
   "source": []
  },
  {
   "cell_type": "code",
   "execution_count": null,
   "metadata": {
    "pycharm": {
     "name": "#%%\n"
    }
   },
   "outputs": [],
   "source": []
  },
  {
   "cell_type": "code",
   "execution_count": null,
   "metadata": {
    "pycharm": {
     "name": "#%%\n"
    }
   },
   "outputs": [],
   "source": []
  },
  {
   "cell_type": "code",
   "execution_count": null,
   "metadata": {
    "pycharm": {
     "name": "#%%\n"
    }
   },
   "outputs": [],
   "source": []
  },
  {
   "cell_type": "code",
   "execution_count": null,
   "metadata": {
    "pycharm": {
     "name": "#%%\n"
    }
   },
   "outputs": [],
   "source": []
  },
  {
   "cell_type": "code",
   "execution_count": null,
   "metadata": {
    "pycharm": {
     "name": "#%%\n"
    }
   },
   "outputs": [],
   "source": []
  }
 ],
 "metadata": {
  "kernelspec": {
   "display_name": "Python 3 (ipykernel)",
   "language": "python",
   "name": "python3"
  },
  "language_info": {
   "codemirror_mode": {
    "name": "ipython",
    "version": 3
   },
   "file_extension": ".py",
   "mimetype": "text/x-python",
   "name": "python",
   "nbconvert_exporter": "python",
   "pygments_lexer": "ipython3",
   "version": "3.8.10"
  }
 },
 "nbformat": 4,
 "nbformat_minor": 1
}